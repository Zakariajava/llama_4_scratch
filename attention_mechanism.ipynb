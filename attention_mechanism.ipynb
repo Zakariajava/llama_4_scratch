{
 "cells": [
  {
   "cell_type": "code",
   "execution_count": null,
   "id": "300c4e02",
   "metadata": {},
   "outputs": [],
   "source": [
    "# llama attention mechanism"
   ]
  },
  {
   "cell_type": "code",
   "execution_count": 4,
   "id": "c7c07337",
   "metadata": {},
   "outputs": [
    {
     "name": "stdout",
     "output_type": "stream",
     "text": [
      "CUDA available: True\n",
      "Number of GPUs: 1\n"
     ]
    }
   ],
   "source": [
    "import torch \n",
    "import torch.nn as nn\n",
    "import torch.nn.functional as F\n",
    "import math\n",
    "from typing import Tuple, Optional\n",
    "\n",
    "# Check if CUDA is available\n",
    "if torch.cuda.is_available():\n",
    "    print(\"CUDA available:\", torch.cuda.is_available())\n",
    "    print(\"Number of GPUs:\", torch.cuda.device_count())"
   ]
  },
  {
   "cell_type": "code",
   "execution_count": null,
   "id": "7ba335b6",
   "metadata": {},
   "outputs": [],
   "source": [
    "# --- Configuration ---\n",
    "\n",
    "hidden_size = 128\n",
    "# Dimension of the embedding vector for each token.\n",
    "# Example: every token (like \"dog\") is represented by a vector of 128 numbers.\n",
    "\n",
    "num_attention_heads = 16\n",
    "# How many attention heads we use in parallel.\n",
    "# The hidden_size (128) is split across these heads.\n",
    "# Each head sees only part of the vector → 128 / 16 = 8 dimensions per head.\n",
    "\n",
    "num_key_value_heads = 4\n",
    "# Special trick: Grouped-Query Attention (GQA).\n",
    "# Instead of creating 16 different Key/Value heads,\n",
    "# we only create 4 K/V heads (each of size 8) and let multiple Q heads share them.\n",
    "# → This saves memory and computation while keeping good performance.\n",
    "\n",
    "head_dim = hidden_size // num_attention_heads\n",
    "# Size of each head’s Q, K, V vector.\n",
    "# With hidden_size=128 and 16 heads, each head works in 8 dimensions.\n",
    "\n",
    "max_position_embeddings = 256\n",
    "# Maximum sequence length (number of tokens) the model can process at once.\n",
    "# If a sentence has more than 256 tokens, it must be truncated or split.\n",
    "\n",
    "rope_theta = 10000.0\n",
    "# Base frequency for Rotary Position Embeddings (RoPE).\n",
    "# It controls how positional information is encoded.\n",
    "# Larger theta = slower change in frequency = smoother positional encoding.\n",
    "\n",
    "rms_norm_eps = 1e-5\n",
    "# Tiny constant added inside RMSNorm to avoid division by zero.\n",
    "# Ensures stability in training and inference.\n",
    "\n",
    "attention_bias = False\n",
    "# Whether to add a bias term to the linear layers that produce Q, K, V.\n",
    "# Usually kept False for efficiency.\n",
    "\n",
    "attention_dropout = 0.0\n",
    "# Dropout probability applied to attention weights (to prevent overfitting).\n",
    "# Often set to 0.0 during inference (disabled).\n",
    "\n",
    "use_qk_norm = True\n",
    "# Whether to normalize Q and K vectors (L2 norm) before computing attention scores.\n",
    "# This keeps dot products more stable and avoids extreme attention weights.\n"
   ]
  }
 ],
 "metadata": {
  "kernelspec": {
   "display_name": "ml",
   "language": "python",
   "name": "python3"
  },
  "language_info": {
   "codemirror_mode": {
    "name": "ipython",
    "version": 3
   },
   "file_extension": ".py",
   "mimetype": "text/x-python",
   "name": "python",
   "nbconvert_exporter": "python",
   "pygments_lexer": "ipython3",
   "version": "3.10.18"
  }
 },
 "nbformat": 4,
 "nbformat_minor": 5
}
